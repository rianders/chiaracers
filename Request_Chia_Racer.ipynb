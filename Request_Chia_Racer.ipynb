{
 "cells": [
  {
   "cell_type": "markdown",
   "id": "spanish-harvard",
   "metadata": {},
   "source": [
    "# request a chiaracer\n",
    "\n"
   ]
  },
  {
   "cell_type": "code",
   "execution_count": 11,
   "id": "green-gazette",
   "metadata": {},
   "outputs": [
    {
     "name": "stdout",
     "output_type": "stream",
     "text": [
      "Now using CHI@Edge:\n",
      "URL: https://chi.edge.chameleoncloud.org\n",
      "Location: University of Chicago, Chicago, Illinois, USA\n",
      "Support contact: help@chameleoncloud.org\n"
     ]
    }
   ],
   "source": [
    "import chi\n",
    "# Before we go any further, we need to select which Chameleon site we will be using.\n",
    "chi.use_site(\"CHI@Edge\")\n",
    "chi.set(\"project_name\", \"CHI-220971\")\n",
    "from chi import container\n",
    "from chi import lease"
   ]
  },
  {
   "cell_type": "code",
   "execution_count": 12,
   "id": "covered-burner",
   "metadata": {},
   "outputs": [
    {
     "name": "stdout",
     "output_type": "stream",
     "text": [
      "Reusing existing lease chiaracer-car-lease with id: 25ae3777-5d37-40dc-8cee-5d5595ffac83\n",
      "Waiting for lease to start ...\n",
      "Done!\n"
     ]
    }
   ],
   "source": [
    "# from blazarclient.exception import BlazarClientException\n",
    "\n",
    "lease_name = \"chiaracer-car-lease\"\n",
    "\n",
    "start, end = lease.lease_duration(days=2)\n",
    "reservations = []\n",
    "\n",
    "try:\n",
    "    container_lease = lease.get_lease(lease_name)\n",
    "except ValueError:\n",
    "    lease.add_device_reservation(reservations, device_name=\"chiaracer-2\", count=1)\n",
    "    container_lease = lease.create_lease(lease_name, reservations)\n",
    "    lease_id = container_lease[\"id\"]\n",
    "    print(f\"Requested new lease {container_lease['name']} with id: {lease_id}\")\n",
    "else:\n",
    "    lease_id = container_lease.get(\"id\")\n",
    "    print(f\"Reusing existing lease {container_lease['name']} with id: {lease_id}\")\n",
    "# Wait for the lease before proceeding\n",
    "print(\"Waiting for lease to start ...\")\n",
    "lease.wait_for_active(lease_id)\n",
    "print(\"Done!\")"
   ]
  },
  {
   "cell_type": "code",
   "execution_count": null,
   "id": "bacterial-mouse",
   "metadata": {},
   "outputs": [],
   "source": [
    "\n",
    "container_lease = lease.get_lease(\"chiaracer-car-lease\")\n",
    "\n",
    "\n",
    "lease_id = container_lease[\"id\"]\n",
    "print(f\"lease_id: {lease_id}\")\n"
   ]
  },
  {
   "cell_type": "code",
   "execution_count": 46,
   "id": "verified-hampshire",
   "metadata": {},
   "outputs": [
    {
     "name": "stdout",
     "output_type": "stream",
     "text": [
      "Requesting container ...\n",
      "Status is: Running; with reason: None\n",
      "Waiting for container to start ...\n"
     ]
    },
    {
     "data": {
      "text/plain": [
       "<Container {'uuid': 'bcc4cd5a-cc6a-4a1c-b6bf-afd5dc867143', 'links': [{'href': 'http://chi.edge.chameleoncloud.org:9517/v1/containers/bcc4cd5a-cc6a-4a1c-b6bf-afd5dc867143', 'rel': 'self'}, {'href': 'http://chi.edge.chameleoncloud.org:9517/containers/bcc4cd5a-cc6a-4a1c-b6bf-afd5dc867143', 'rel': 'bookmark'}], 'name': 'chiaracer-container', 'project_id': '3be28ea43254412fb0d78d961d64637a', 'user_id': 'e03b99dada69c925afc2b7df92395a048f08b6ecd5484bb69a400e9056cd05e7', 'image': 'rianders/car:main', 'cpu': 0.0, 'cpu_policy': 'shared', 'memory': '0', 'command': [], 'status': 'Running', 'status_reason': None, 'task_state': None, 'environment': {}, 'workdir': None, 'auto_remove': True, 'ports': [22], 'hostname': None, 'labels': {}, 'addresses': {'db32fc77-deaa-4288-a480-17da94bbd5a1': [{'addr': '192.168.72.155', 'version': 4, 'port': '8a706d94-97cd-435c-8b6b-50ab35000ed7'}]}, 'restart_policy': {}, 'status_detail': None, 'interactive': True, 'tty': True, 'image_driver': 'docker', 'security_groups': [], 'disk': 0, 'auto_heal': False, 'healthcheck': {}, 'registry_id': None, 'entrypoint': []}>"
      ]
     },
     "execution_count": 46,
     "metadata": {},
     "output_type": "execute_result"
    }
   ],
   "source": [
    "# Decide what container you want to use: main or specific hash\n",
    "\n",
    "print(\"Requesting container ...\")\n",
    "\n",
    "container_name = \"chiaracer-container\"\n",
    "\n",
    "my_container = container.create_container(\n",
    "    container_name,\n",
    "    #image=\"rianders/car:b529fe8\",\n",
    "    image=\"rianders/car:main\",\n",
    "    exposed_ports=[\"22\"],\n",
    "    interactive=True,\n",
    "    command=[\"/bin/bash\"],\n",
    "    device_profiles=[\n",
    "        \"pi_camera\",\n",
    "        \"pi_gpio\",\n",
    "        \"pi_serial\"],\n",
    "    reservation_id=lease.get_device_reservation(lease_id),\n",
    ")\n",
    "\n",
    "print(f\"Status is: {my_container.status}; with reason: {my_container.status_reason}\")\n",
    "\n",
    "print(\"Waiting for container to start ...\")\n",
    "container.wait_for_active(my_container.uuid)\n"
   ]
  },
  {
   "cell_type": "code",
   "execution_count": null,
   "id": "03816b6b-780e-4cc0-8e15-dfed722e0dc6",
   "metadata": {},
   "outputs": [],
   "source": [
    "container_logs = container.get_logs(my_container.uuid)\n",
    "print(container_logs)\n"
   ]
  },
  {
   "cell_type": "code",
   "execution_count": null,
   "id": "unavailable-budapest",
   "metadata": {},
   "outputs": [],
   "source": [
    "print(f\"Status is: {my_container.status}; with reason: {my_container.status_reason}\")"
   ]
  },
  {
   "cell_type": "code",
   "execution_count": null,
   "id": "b0d398ab-b9bb-439c-a9ac-acd019dcd49e",
   "metadata": {},
   "outputs": [],
   "source": []
  },
  {
   "cell_type": "code",
   "execution_count": 47,
   "id": "monthly-question",
   "metadata": {},
   "outputs": [
    {
     "name": "stdout",
     "output_type": "stream",
     "text": [
      "public_ip: 129.114.34.174\n"
     ]
    }
   ],
   "source": [
    "public_ip = container.associate_floating_ip(my_container.uuid)\n",
    "print(f\"public_ip: {public_ip}\")\n",
    "      "
   ]
  },
  {
   "cell_type": "code",
   "execution_count": null,
   "id": "threatened-andrew",
   "metadata": {},
   "outputs": [],
   "source": [
    "# lease device list: https://chi.edge.chameleoncloud.org/project/leases/calendar/device/"
   ]
  },
  {
   "cell_type": "code",
   "execution_count": null,
   "id": "neither-triple",
   "metadata": {},
   "outputs": [],
   "source": [
    "# Uncomment to destroy container\n",
    "#container.destroy_container(my_container.uuid)"
   ]
  },
  {
   "cell_type": "code",
   "execution_count": null,
   "id": "superb-relationship",
   "metadata": {},
   "outputs": [],
   "source": [
    "# Remove lease when you're done with the device\n",
    "#lease.delete_lease(lease_id)"
   ]
  },
  {
   "cell_type": "code",
   "execution_count": 48,
   "id": "competitive-thunder",
   "metadata": {},
   "outputs": [
    {
     "name": "stdout",
     "output_type": "stream",
     "text": [
      "ls  -l\n",
      "total 44\n",
      "-rw-r--r-- 1 root root     0 May  1 02:03 README.rst\n",
      "drwxr-xr-x 2 root root  4096 May  1 02:03 carservices\n",
      "-rw-r--r-- 1 root root 13912 May  1 02:03 poetry.lock\n",
      "-rw-r--r-- 1 root root   618 May  1 02:03 pyproject.toml\n",
      "-rw-r--r-- 1 root root  8415 May  1 02:03 requirements.txt\n",
      "-rw-r--r-- 1 root root   406 May  1 02:03 systeminstall.sh\n",
      "drwxr-xr-x 2 root root  4096 May  1 02:03 tests\n",
      "\n"
     ]
    }
   ],
   "source": [
    "cmd = \"ls  -l\"\n",
    "print(cmd)\n",
    "\n",
    "print(container.execute(my_container.uuid, cmd)[\"output\"])"
   ]
  },
  {
   "cell_type": "code",
   "execution_count": 36,
   "id": "tropical-issue",
   "metadata": {},
   "outputs": [
    {
     "name": "stdout",
     "output_type": "stream",
     "text": [
      "/foocars/cars/carservices/carservices/pihattest.py:51: RuntimeWarning: This channel is already in use, continuing anyway.  Use GPIO.setwarnings(False) to disable warnings.\n",
      "  GPIO.setup(led, GPIO.OUT)\n",
      "\n"
     ]
    }
   ],
   "source": [
    "cmd =  \"bash -c \\\"test_pihat\\\" > log.out\"\n",
    "print(container.execute(my_container.uuid,cmd)[\"output\"])\n"
   ]
  },
  {
   "cell_type": "code",
   "execution_count": 19,
   "id": "confidential-withdrawal",
   "metadata": {},
   "outputs": [
    {
     "name": "stdout",
     "output_type": "stream",
     "text": [
      "README.rst\n",
      "carservices\n",
      "poetry.lock\n",
      "pyproject.toml\n",
      "requirements.txt\n",
      "systeminstall.sh\n",
      "tests\n",
      "\n"
     ]
    }
   ],
   "source": [
    "cmd = \"ls\"\n",
    "print(container.execute(my_container.uuid, cmd)[\"output\"])"
   ]
  },
  {
   "cell_type": "code",
   "execution_count": 37,
   "id": "respected-institute",
   "metadata": {},
   "outputs": [
    {
     "name": "stdout",
     "output_type": "stream",
     "text": [
      "\n"
     ]
    }
   ],
   "source": [
    "cmd =  \"bash -c \\\"car_runner\\\" > log.out\"\n",
    "print(cmd)\n",
    "print(container.execute(my_container.uuid,cmd)[\"output\"])"
   ]
  },
  {
   "cell_type": "code",
   "execution_count": 39,
   "id": "073db638-99c8-4c9e-9abf-3a65e2be56ee",
   "metadata": {},
   "outputs": [
    {
     "name": "stdout",
     "output_type": "stream",
     "text": [
      "ls  ../chiaracer/\n",
      "arduino\n",
      "config.toml\n",
      "data\n",
      "readme.md\n",
      "\n"
     ]
    }
   ],
   "source": [
    "cmd = \"ls  ../chiaracer/\"\n",
    "print(cmd)\n",
    "print(container.execute(my_container.uuid, cmd)[\"output\"])"
   ]
  },
  {
   "cell_type": "code",
   "execution_count": 40,
   "id": "3663f378-593b-4a41-bad4-b0e6b09d8de2",
   "metadata": {},
   "outputs": [
    {
     "name": "stdout",
     "output_type": "stream",
     "text": [
      "ls  ../chiaracer/data/collected\n",
      "readme.md\n",
      "\n"
     ]
    }
   ],
   "source": [
    "cmd = \"ls  ../chiaracer/data/collected\"\n",
    "print(cmd)\n",
    "print(container.execute(my_container.uuid, cmd)[\"output\"])"
   ]
  },
  {
   "cell_type": "code",
   "execution_count": null,
   "id": "d9dab740-dc9b-4a1b-829a-1738991d465f",
   "metadata": {},
   "outputs": [],
   "source": []
  }
 ],
 "metadata": {
  "kernelspec": {
   "display_name": "Python 3 (ipykernel)",
   "language": "python",
   "name": "python3"
  },
  "language_info": {
   "codemirror_mode": {
    "name": "ipython",
    "version": 3
   },
   "file_extension": ".py",
   "mimetype": "text/x-python",
   "name": "python",
   "nbconvert_exporter": "python",
   "pygments_lexer": "ipython3",
   "version": "3.10.9"
  }
 },
 "nbformat": 4,
 "nbformat_minor": 5
}
